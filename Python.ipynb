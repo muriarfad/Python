{
 "cells": [
  {
   "cell_type": "markdown",
   "id": "4294bdb1",
   "metadata": {},
   "source": [
    "# Python"
   ]
  },
  {
   "cell_type": "markdown",
   "id": "9a4a9d11",
   "metadata": {},
   "source": [
    "## Variable and Basic Data Types"
   ]
  },
  {
   "cell_type": "markdown",
   "id": "1af5a56a",
   "metadata": {},
   "source": [
    "### Variable \n",
    "**variable** is a name or symbol that is used for saving a value."
   ]
  },
  {
   "cell_type": "code",
   "execution_count": 1,
   "id": "244bc06f",
   "metadata": {},
   "outputs": [],
   "source": [
    "name = \"Muhamad Rizki Arif Fadillah\"\n",
    "age = 24\n",
    "tall = 169.9\n",
    "handsome = True"
   ]
  },
  {
   "cell_type": "code",
   "execution_count": 2,
   "id": "dbdb2530",
   "metadata": {},
   "outputs": [
    {
     "data": {
      "text/plain": [
       "('Muhamad Rizki Arif Fadillah', 24, 169.9, True)"
      ]
     },
     "execution_count": 2,
     "metadata": {},
     "output_type": "execute_result"
    }
   ],
   "source": [
    "name , age , tall , handsome"
   ]
  },
  {
   "cell_type": "markdown",
   "id": "4691bb01",
   "metadata": {},
   "source": [
    "We can use numbers as variables. but we must start it with '_'."
   ]
  },
  {
   "cell_type": "code",
   "execution_count": 3,
   "id": "390d2aec",
   "metadata": {},
   "outputs": [
    {
     "data": {
      "text/plain": [
       "(123, 'three,two,one')"
      ]
     },
     "execution_count": 3,
     "metadata": {},
     "output_type": "execute_result"
    }
   ],
   "source": [
    "_123 = 123\n",
    "_321 = \"three,two,one\"\n",
    "_123,_321"
   ]
  },
  {
   "cell_type": "markdown",
   "id": "40a69416",
   "metadata": {},
   "source": [
    "Creating multiple variables for multiple values."
   ]
  },
  {
   "cell_type": "code",
   "execution_count": 4,
   "id": "a9a09919",
   "metadata": {},
   "outputs": [
    {
     "data": {
      "text/plain": [
       "('Kibo', 23, 165.5, False)"
      ]
     },
     "execution_count": 4,
     "metadata": {},
     "output_type": "execute_result"
    }
   ],
   "source": [
    "a,b,c,d = \"Kibo\",23,165.5,False\n",
    "a,b,c,d"
   ]
  },
  {
   "cell_type": "markdown",
   "id": "d53501c7",
   "metadata": {},
   "source": [
    "### Basic data types\n",
    "1. String <br>\n",
    "2. Numerical <br>\n",
    "3. Boolean"
   ]
  },
  {
   "cell_type": "markdown",
   "id": "a4000e29",
   "metadata": {},
   "source": [
    "#### String\n",
    "**String** is a data type used to represent a character sequence that starts with double quotes (\"value\") or single quotes ('value')."
   ]
  },
  {
   "cell_type": "code",
   "execution_count": 5,
   "id": "9ab567e8",
   "metadata": {},
   "outputs": [
    {
     "data": {
      "text/plain": [
       "('Kibo', 'Rizki')"
      ]
     },
     "execution_count": 5,
     "metadata": {},
     "output_type": "execute_result"
    }
   ],
   "source": [
    "#Without variable.\n",
    "\"Kibo\",'Rizki'"
   ]
  },
  {
   "cell_type": "code",
   "execution_count": 6,
   "id": "17428450",
   "metadata": {},
   "outputs": [
    {
     "data": {
      "text/plain": [
       "('Muhamad Rizki', 'Arif Fadillah')"
      ]
     },
     "execution_count": 6,
     "metadata": {},
     "output_type": "execute_result"
    }
   ],
   "source": [
    "first_name = \"Muhamad Rizki\"\n",
    "last_name = 'Arif Fadillah'\n",
    "first_name,last_name"
   ]
  },
  {
   "cell_type": "code",
   "execution_count": 7,
   "id": "5a3ad422",
   "metadata": {},
   "outputs": [
    {
     "data": {
      "text/plain": [
       "(str, str)"
      ]
     },
     "execution_count": 7,
     "metadata": {},
     "output_type": "execute_result"
    }
   ],
   "source": [
    "#Check data type\n",
    "type(first_name),type(last_name)"
   ]
  },
  {
   "cell_type": "markdown",
   "id": "de0fc168",
   "metadata": {},
   "source": [
    "#### Numeric\n",
    "**Numeric** is data types used to represent and manipulate numbers, and it has two data types. <br>\n",
    "The first is **int**, it's used for number that doesn't have any decimal.<br>\n",
    "The second is **float**, it's used for number that has decimal."
   ]
  },
  {
   "cell_type": "code",
   "execution_count": 8,
   "id": "0aba9dee",
   "metadata": {},
   "outputs": [
    {
     "data": {
      "text/plain": [
       "(11, 8, 2023)"
      ]
     },
     "execution_count": 8,
     "metadata": {},
     "output_type": "execute_result"
    }
   ],
   "source": [
    "#The int without variable\n",
    "11,8,2023"
   ]
  },
  {
   "cell_type": "code",
   "execution_count": 9,
   "id": "1f229df7",
   "metadata": {},
   "outputs": [
    {
     "data": {
      "text/plain": [
       "24"
      ]
     },
     "execution_count": 9,
     "metadata": {},
     "output_type": "execute_result"
    }
   ],
   "source": [
    "age = 24\n",
    "age"
   ]
  },
  {
   "cell_type": "code",
   "execution_count": 10,
   "id": "681a1e97",
   "metadata": {},
   "outputs": [
    {
     "data": {
      "text/plain": [
       "(int, int)"
      ]
     },
     "execution_count": 10,
     "metadata": {},
     "output_type": "execute_result"
    }
   ],
   "source": [
    "type(age),type(11)"
   ]
  },
  {
   "cell_type": "code",
   "execution_count": 11,
   "id": "caada929",
   "metadata": {},
   "outputs": [
    {
     "data": {
      "text/plain": [
       "(70.9, 101.1)"
      ]
     },
     "execution_count": 11,
     "metadata": {},
     "output_type": "execute_result"
    }
   ],
   "source": [
    "#The float without variable\n",
    "70.9,101.1"
   ]
  },
  {
   "cell_type": "code",
   "execution_count": 12,
   "id": "17e38db7",
   "metadata": {},
   "outputs": [
    {
     "data": {
      "text/plain": [
       "65.3"
      ]
     },
     "execution_count": 12,
     "metadata": {},
     "output_type": "execute_result"
    }
   ],
   "source": [
    "weight = 65.3\n",
    "weight"
   ]
  },
  {
   "cell_type": "code",
   "execution_count": 13,
   "id": "f41de028",
   "metadata": {},
   "outputs": [
    {
     "data": {
      "text/plain": [
       "(float, float)"
      ]
     },
     "execution_count": 13,
     "metadata": {},
     "output_type": "execute_result"
    }
   ],
   "source": [
    "type(weight),type(99.9)"
   ]
  },
  {
   "cell_type": "markdown",
   "id": "27260776",
   "metadata": {},
   "source": [
    "#### Boolean\n",
    "Boolean is data type that has two values, **True** and **False**."
   ]
  },
  {
   "cell_type": "code",
   "execution_count": 14,
   "id": "b13c419f",
   "metadata": {},
   "outputs": [
    {
     "data": {
      "text/plain": [
       "(True, False)"
      ]
     },
     "execution_count": 14,
     "metadata": {},
     "output_type": "execute_result"
    }
   ],
   "source": [
    "#Boolean without variable\n",
    "True,False"
   ]
  },
  {
   "cell_type": "code",
   "execution_count": 15,
   "id": "521af73f",
   "metadata": {},
   "outputs": [
    {
     "data": {
      "text/plain": [
       "True"
      ]
     },
     "execution_count": 15,
     "metadata": {},
     "output_type": "execute_result"
    }
   ],
   "source": [
    "am_i_handsome = True\n",
    "am_i_handsome"
   ]
  },
  {
   "cell_type": "code",
   "execution_count": 16,
   "id": "7857238c",
   "metadata": {},
   "outputs": [
    {
     "data": {
      "text/plain": [
       "(bool, bool)"
      ]
     },
     "execution_count": 16,
     "metadata": {},
     "output_type": "execute_result"
    }
   ],
   "source": [
    "type(am_i_handsome),type(False)"
   ]
  },
  {
   "cell_type": "markdown",
   "id": "f4265398",
   "metadata": {},
   "source": [
    "## Operators"
   ]
  },
  {
   "cell_type": "markdown",
   "id": "9695f2f4",
   "metadata": {},
   "source": [
    "### Arithmetic operators.\n",
    "**Arithmetic operators** are symbol or characters used to perform various mathematical operations on numeric numbers, and it has 7 operations.\n",
    "<img src=\"https://camo.githubusercontent.com/d2a7569c8ec2def8c13e9936b56e37b04bb28905c311278976ed6a1b35158d23/68747470733a2f2f7465636876696476616e2e636f6d2f7475746f7269616c732f77702d636f6e74656e742f75706c6f6164732f73697465732f322f323031392f31322f707974686f6e2d61726974686d657469632d6f70657261746f72732d312e6a7067\" width=\"500\" height=\"600\">"
   ]
  },
  {
   "cell_type": "code",
   "execution_count": 17,
   "id": "03918e6d",
   "metadata": {},
   "outputs": [
    {
     "data": {
      "text/plain": [
       "(80, 12)"
      ]
     },
     "execution_count": 17,
     "metadata": {},
     "output_type": "execute_result"
    }
   ],
   "source": [
    "# Addition\n",
    "x = 5\n",
    "y = 7\n",
    "30+50,x+y"
   ]
  },
  {
   "cell_type": "code",
   "execution_count": 18,
   "id": "9393ab7b",
   "metadata": {},
   "outputs": [
    {
     "data": {
      "text/plain": [
       "(20, -2)"
      ]
     },
     "execution_count": 18,
     "metadata": {},
     "output_type": "execute_result"
    }
   ],
   "source": [
    "#Subtraction\n",
    "25-5,x-y"
   ]
  },
  {
   "cell_type": "code",
   "execution_count": 19,
   "id": "6c88a4c3",
   "metadata": {},
   "outputs": [
    {
     "data": {
      "text/plain": [
       "(25, 35)"
      ]
     },
     "execution_count": 19,
     "metadata": {},
     "output_type": "execute_result"
    }
   ],
   "source": [
    "#Multipication\n",
    "5*5,x*y"
   ]
  },
  {
   "cell_type": "code",
   "execution_count": 20,
   "id": "b675068f",
   "metadata": {},
   "outputs": [
    {
     "data": {
      "text/plain": [
       "(13.333333333333334, 1.4)"
      ]
     },
     "execution_count": 20,
     "metadata": {},
     "output_type": "execute_result"
    }
   ],
   "source": [
    "#Division will result float value\n",
    "40/3,y/x"
   ]
  },
  {
   "cell_type": "code",
   "execution_count": 21,
   "id": "71f95e68",
   "metadata": {},
   "outputs": [
    {
     "data": {
      "text/plain": [
       "(5, 2)"
      ]
     },
     "execution_count": 21,
     "metadata": {},
     "output_type": "execute_result"
    }
   ],
   "source": [
    "#Modulo\n",
    "40%7,y%x"
   ]
  },
  {
   "cell_type": "code",
   "execution_count": 22,
   "id": "80a1ead1",
   "metadata": {},
   "outputs": [
    {
     "data": {
      "text/plain": [
       "(3125, 78125)"
      ]
     },
     "execution_count": 22,
     "metadata": {},
     "output_type": "execute_result"
    }
   ],
   "source": [
    "#Exponantition\n",
    "5**5,x**y"
   ]
  },
  {
   "cell_type": "code",
   "execution_count": 23,
   "id": "1e6e4099",
   "metadata": {},
   "outputs": [
    {
     "data": {
      "text/plain": [
       "(26, 1)"
      ]
     },
     "execution_count": 23,
     "metadata": {},
     "output_type": "execute_result"
    }
   ],
   "source": [
    "#Floor division will reslut int value\n",
    "80//3,y//x"
   ]
  },
  {
   "cell_type": "markdown",
   "id": "756aacac",
   "metadata": {},
   "source": [
    "### Assignment Operators.\n",
    "**Assignment Operators** are symbols or characters used to assign values to variables.\n",
    "<br>\n",
    "<img src=\"https://camo.githubusercontent.com/a570ac18fd933ef330e1acbe57689dd242fd07a7dbdb3c66224ef097cfc304d7/68747470733a2f2f7465636876696476616e2e636f6d2f7475746f7269616c732f77702d636f6e74656e742f75706c6f6164732f73697465732f322f323031392f31322f507974686f6e2d41737369676e6d656e742d4f70657261746f72732e6a7067\" width=\"500\" height=\"600\">"
   ]
  },
  {
   "cell_type": "code",
   "execution_count": 24,
   "id": "0fcab359",
   "metadata": {},
   "outputs": [],
   "source": [
    "# Declare a variable. or assign\n",
    "z = 50"
   ]
  },
  {
   "cell_type": "code",
   "execution_count": 25,
   "id": "6e3c6d6a",
   "metadata": {},
   "outputs": [
    {
     "data": {
      "text/plain": [
       "55"
      ]
     },
     "execution_count": 25,
     "metadata": {},
     "output_type": "execute_result"
    }
   ],
   "source": [
    "z += 5\n",
    "z"
   ]
  },
  {
   "cell_type": "code",
   "execution_count": 26,
   "id": "2c1b5851",
   "metadata": {},
   "outputs": [
    {
     "data": {
      "text/plain": [
       "48"
      ]
     },
     "execution_count": 26,
     "metadata": {},
     "output_type": "execute_result"
    }
   ],
   "source": [
    "z -= 7\n",
    "z"
   ]
  },
  {
   "cell_type": "code",
   "execution_count": 27,
   "id": "2183aeb4",
   "metadata": {},
   "outputs": [
    {
     "data": {
      "text/plain": [
       "96"
      ]
     },
     "execution_count": 27,
     "metadata": {},
     "output_type": "execute_result"
    }
   ],
   "source": [
    "z *= 2\n",
    "z"
   ]
  },
  {
   "cell_type": "code",
   "execution_count": 28,
   "id": "478b4e45",
   "metadata": {},
   "outputs": [
    {
     "data": {
      "text/plain": [
       "24.0"
      ]
     },
     "execution_count": 28,
     "metadata": {},
     "output_type": "execute_result"
    }
   ],
   "source": [
    "z /= 4\n",
    "z"
   ]
  },
  {
   "cell_type": "code",
   "execution_count": 29,
   "id": "77e93432",
   "metadata": {},
   "outputs": [
    {
     "data": {
      "text/plain": [
       "4.0"
      ]
     },
     "execution_count": 29,
     "metadata": {},
     "output_type": "execute_result"
    }
   ],
   "source": [
    "z %= 5\n",
    "z"
   ]
  },
  {
   "cell_type": "code",
   "execution_count": 30,
   "id": "b6527565",
   "metadata": {},
   "outputs": [
    {
     "data": {
      "text/plain": [
       "256.0"
      ]
     },
     "execution_count": 30,
     "metadata": {},
     "output_type": "execute_result"
    }
   ],
   "source": [
    "z **= 4\n",
    "z"
   ]
  },
  {
   "cell_type": "code",
   "execution_count": 31,
   "id": "331e0bb4",
   "metadata": {},
   "outputs": [
    {
     "data": {
      "text/plain": [
       "51.0"
      ]
     },
     "execution_count": 31,
     "metadata": {},
     "output_type": "execute_result"
    }
   ],
   "source": [
    "z //= 5\n",
    "z"
   ]
  },
  {
   "cell_type": "markdown",
   "id": "baa42eb7",
   "metadata": {},
   "source": [
    "### Python relational operations\n",
    "<br>\n",
    "<img src=\"https://camo.githubusercontent.com/b4c60c05b509aa5fc1453315653098967bd1c8b4c4a67dd3cbf21261926d60f6/68747470733a2f2f7465636876696476616e2e636f6d2f7475746f7269616c732f77702d636f6e74656e742f75706c6f6164732f73697465732f322f323031392f31322f707974686f6e2d72656c6174696f6e616c2d6f70657261746f72732d312e6a7067\" width=\"300\" height=\"300\">"
   ]
  },
  {
   "cell_type": "code",
   "execution_count": 32,
   "id": "0b105603",
   "metadata": {},
   "outputs": [],
   "source": [
    "#Declaring variables\n",
    "x = 50\n",
    "y = 45"
   ]
  },
  {
   "cell_type": "code",
   "execution_count": 33,
   "id": "16f10db7",
   "metadata": {},
   "outputs": [
    {
     "data": {
      "text/plain": [
       "'Is 50 greater than 45 ? True'"
      ]
     },
     "execution_count": 33,
     "metadata": {},
     "output_type": "execute_result"
    }
   ],
   "source": [
    "#Greater than\n",
    "f'Is {x} greater than {y} ? {x>y}'"
   ]
  },
  {
   "cell_type": "code",
   "execution_count": 34,
   "id": "4b0a358d",
   "metadata": {},
   "outputs": [
    {
     "data": {
      "text/plain": [
       "'Is 50 less than 45 ? False'"
      ]
     },
     "execution_count": 34,
     "metadata": {},
     "output_type": "execute_result"
    }
   ],
   "source": [
    "#Less than\n",
    "f'Is {x} less than {y} ? {x<y}'"
   ]
  },
  {
   "cell_type": "code",
   "execution_count": 35,
   "id": "6bfdfcc1",
   "metadata": {},
   "outputs": [
    {
     "data": {
      "text/plain": [
       "'Is 50 Equal to 45 ? False'"
      ]
     },
     "execution_count": 35,
     "metadata": {},
     "output_type": "execute_result"
    }
   ],
   "source": [
    "#Equal to \n",
    "f'Is {x} Equal to {y} ? {x==y}'"
   ]
  },
  {
   "cell_type": "code",
   "execution_count": 36,
   "id": "b5323315",
   "metadata": {},
   "outputs": [
    {
     "data": {
      "text/plain": [
       "'Is 50 not equal to 45 ? True'"
      ]
     },
     "execution_count": 36,
     "metadata": {},
     "output_type": "execute_result"
    }
   ],
   "source": [
    "#Not Equal to\n",
    "f'Is {x} not equal to {y} ? {x!=y}'"
   ]
  },
  {
   "cell_type": "code",
   "execution_count": 37,
   "id": "0a7edb5f",
   "metadata": {},
   "outputs": [
    {
     "data": {
      "text/plain": [
       "'Is 50 greater than or equal to 45 ? True'"
      ]
     },
     "execution_count": 37,
     "metadata": {},
     "output_type": "execute_result"
    }
   ],
   "source": [
    "#Greater than or equal to\n",
    "f'Is {x} greater than or equal to {y} ? {x>=y}'"
   ]
  },
  {
   "cell_type": "code",
   "execution_count": 38,
   "id": "1cc002f4",
   "metadata": {},
   "outputs": [
    {
     "data": {
      "text/plain": [
       "'Is 50 less than or equal to 45 ? False'"
      ]
     },
     "execution_count": 38,
     "metadata": {},
     "output_type": "execute_result"
    }
   ],
   "source": [
    "#Less than or equal to\n",
    "f'Is {x} less than or equal to {y} ? {x<=y}'"
   ]
  },
  {
   "cell_type": "markdown",
   "id": "718d5b0a",
   "metadata": {},
   "source": [
    "### Logical Operator\n",
    "<br>\n",
    "<img src=\"https://camo.githubusercontent.com/d2b24264e93b3b23760614a0bc42396549250cff0e5197875b2379941af5719e/68747470733a2f2f312e62702e626c6f6773706f742e636f6d2f2d6b32374933634e42367a452f585954415a7633433037492f41414141414141414179302f4b6f625654484868434a5556706737443139486849346464726830495535474b67434c63424741735948512f73313630302f4c6f676963616c4f70657261746f72732e706e67\" width=\"500\" height=\"500\">"
   ]
  },
  {
   "cell_type": "code",
   "execution_count": 39,
   "id": "6eafb148",
   "metadata": {},
   "outputs": [
    {
     "data": {
      "text/plain": [
       "(True, False)"
      ]
     },
     "execution_count": 39,
     "metadata": {},
     "output_type": "execute_result"
    }
   ],
   "source": [
    "#Declaring variables\n",
    "x = True\n",
    "y = False\n",
    "x,y"
   ]
  },
  {
   "cell_type": "code",
   "execution_count": 40,
   "id": "a4ab8f3f",
   "metadata": {},
   "outputs": [
    {
     "data": {
      "text/plain": [
       "(False, True)"
      ]
     },
     "execution_count": 40,
     "metadata": {},
     "output_type": "execute_result"
    }
   ],
   "source": [
    "# not\n",
    "not x, not y"
   ]
  },
  {
   "cell_type": "code",
   "execution_count": 41,
   "id": "5f3301be",
   "metadata": {},
   "outputs": [
    {
     "data": {
      "text/plain": [
       "(True, False, False)"
      ]
     },
     "execution_count": 41,
     "metadata": {},
     "output_type": "execute_result"
    }
   ],
   "source": [
    "# and\n",
    "x and x,y and x, y and y"
   ]
  },
  {
   "cell_type": "code",
   "execution_count": 42,
   "id": "3e090eff",
   "metadata": {},
   "outputs": [
    {
     "data": {
      "text/plain": [
       "(True, True, False)"
      ]
     },
     "execution_count": 42,
     "metadata": {},
     "output_type": "execute_result"
    }
   ],
   "source": [
    "# or\n",
    "x or x,x or y, y or y"
   ]
  },
  {
   "cell_type": "markdown",
   "id": "3652d500",
   "metadata": {},
   "source": [
    "### Membership operations\n",
    "<br>\n",
    "<img src=\"https://camo.githubusercontent.com/315905ab8b1dee3feeeaf0209de97bbb425187b8c21b5a5a04ed130599f5585b/68747470733a2f2f692e7974696d672e636f6d2f76692f6f516b667542416b396c6f2f6d617872657364656661756c742e6a7067\" width=\"600\" height=\"600\">"
   ]
  },
  {
   "cell_type": "code",
   "execution_count": 43,
   "id": "946ba19f",
   "metadata": {},
   "outputs": [
    {
     "name": "stdout",
     "output_type": "stream",
     "text": [
      "Yes, Rizki is present in sentence\n"
     ]
    }
   ],
   "source": [
    "#string\n",
    "name = \"Muhamad Rizki Arif Fadillah\"\n",
    "if \"Rizki\" in name:\n",
    "    print('Yes, Rizki is present in sentence')\n",
    "else:\n",
    "    print('No, Rizki is\\'nt present in sentence')"
   ]
  },
  {
   "cell_type": "code",
   "execution_count": 44,
   "id": "b84b76a6",
   "metadata": {},
   "outputs": [
    {
     "name": "stdout",
     "output_type": "stream",
     "text": [
      "No, Rizki is present in sentence\n"
     ]
    }
   ],
   "source": [
    "if \"Rizki\" not in name:\n",
    "    print('Yes, Rizki is\\'nt present in sentence')\n",
    "else:\n",
    "    print('No, Rizki is present in sentence')"
   ]
  },
  {
   "cell_type": "markdown",
   "id": "9088fa4c",
   "metadata": {
    "jp-MarkdownHeadingCollapsed": true
   },
   "source": [
    "### Bitwise Operations\n",
    "<img src=\"\""
   ]
  },
  {
   "cell_type": "markdown",
   "id": "310ee3a7",
   "metadata": {
    "jp-MarkdownHeadingCollapsed": true
   },
   "source": [
    "## Conditional statement"
   ]
  },
  {
   "cell_type": "markdown",
   "id": "5f93a68d",
   "metadata": {},
   "source": [
    "### If statement"
   ]
  },
  {
   "cell_type": "code",
   "execution_count": 45,
   "id": "d407f720",
   "metadata": {},
   "outputs": [
    {
     "name": "stdout",
     "output_type": "stream",
     "text": [
      "You're adult\n"
     ]
    }
   ],
   "source": [
    "age = 18\n",
    "if age >= 18:\n",
    "    print('You\\'re adult')"
   ]
  },
  {
   "cell_type": "markdown",
   "id": "46acc077",
   "metadata": {},
   "source": [
    "### If else statement"
   ]
  },
  {
   "cell_type": "code",
   "execution_count": 46,
   "id": "6a121a5b",
   "metadata": {},
   "outputs": [
    {
     "name": "stdout",
     "output_type": "stream",
     "text": [
      "You're still teenager\n"
     ]
    }
   ],
   "source": [
    "age = 17\n",
    "if age >=18:\n",
    "    print('You\\'re Adult')\n",
    "else:\n",
    "    print('You\\'re still teenager')"
   ]
  },
  {
   "cell_type": "markdown",
   "id": "3eb73273",
   "metadata": {},
   "source": [
    "### If elif else statement"
   ]
  },
  {
   "cell_type": "code",
   "execution_count": 47,
   "id": "c7e44c03",
   "metadata": {},
   "outputs": [
    {
     "name": "stdout",
     "output_type": "stream",
     "text": [
      "B\n"
     ]
    }
   ],
   "source": [
    "grade = 70\n",
    "if grade < 40:\n",
    "    print('D')\n",
    "elif grade < 60 and grade >=40:\n",
    "    print('C')\n",
    "elif grade <= 80 and grade >=60:\n",
    "    print('B')\n",
    "else:\n",
    "    print('A')"
   ]
  },
  {
   "cell_type": "markdown",
   "id": "738736f7",
   "metadata": {},
   "source": [
    "### Nested if statement"
   ]
  },
  {
   "cell_type": "code",
   "execution_count": 48,
   "id": "7ff94d61",
   "metadata": {},
   "outputs": [
    {
     "name": "stdout",
     "output_type": "stream",
     "text": [
      "Divisible by two but not by three\n"
     ]
    }
   ],
   "source": [
    "value = 8\n",
    "if value % 2 == 0:\n",
    "    if value % 3 == 0:\n",
    "        print('Divisible by two and three')\n",
    "    print('Divisible by two but not by three')\n",
    "else:\n",
    "    print('Not divisible by two and three')"
   ]
  },
  {
   "cell_type": "markdown",
   "id": "5f5533be",
   "metadata": {},
   "source": [
    "### Tenary operations"
   ]
  },
  {
   "cell_type": "code",
   "execution_count": 49,
   "id": "94b154f4",
   "metadata": {},
   "outputs": [
    {
     "data": {
      "text/plain": [
       "'Even'"
      ]
     },
     "execution_count": 49,
     "metadata": {},
     "output_type": "execute_result"
    }
   ],
   "source": [
    "result = \"Even\" if value % 2 == 0 else \"Odd\"\n",
    "result"
   ]
  },
  {
   "cell_type": "markdown",
   "id": "f307b2ca",
   "metadata": {
    "jp-MarkdownHeadingCollapsed": true
   },
   "source": [
    "## Looping statements"
   ]
  },
  {
   "cell_type": "code",
   "execution_count": 50,
   "id": "ee43c1ed",
   "metadata": {},
   "outputs": [
    {
     "name": "stdout",
     "output_type": "stream",
     "text": [
      "0\n",
      "1\n",
      "2\n",
      "3\n",
      "4\n",
      "5\n"
     ]
    }
   ],
   "source": [
    "#for\n",
    "for x in range(6):\n",
    "    print(x)"
   ]
  },
  {
   "cell_type": "code",
   "execution_count": 51,
   "id": "a75a2c93",
   "metadata": {},
   "outputs": [
    {
     "name": "stdout",
     "output_type": "stream",
     "text": [
      "3\n",
      "4\n",
      "5\n"
     ]
    }
   ],
   "source": [
    "for x in range(3,6):\n",
    "    print(x)"
   ]
  },
  {
   "cell_type": "code",
   "execution_count": 52,
   "id": "99616061",
   "metadata": {},
   "outputs": [
    {
     "name": "stdout",
     "output_type": "stream",
     "text": [
      "0\n",
      "4\n",
      "8\n",
      "12\n"
     ]
    }
   ],
   "source": [
    "for x in range(0,13,4):\n",
    "    print(x)"
   ]
  },
  {
   "cell_type": "code",
   "execution_count": 53,
   "id": "d8ea21a3",
   "metadata": {},
   "outputs": [
    {
     "name": "stdout",
     "output_type": "stream",
     "text": [
      "M\n",
      "u\n",
      "h\n",
      "a\n",
      "m\n",
      "a\n",
      "d\n"
     ]
    }
   ],
   "source": [
    "#For in string\n",
    "for x in \"Muhamad\":\n",
    "    print(x)"
   ]
  },
  {
   "cell_type": "code",
   "execution_count": 54,
   "id": "45fe42b3",
   "metadata": {},
   "outputs": [
    {
     "name": "stdout",
     "output_type": "stream",
     "text": [
      "0\n",
      "1\n",
      "2\n",
      "3\n",
      "4\n",
      "5\n",
      "6\n"
     ]
    }
   ],
   "source": [
    "#break statement\n",
    "for x in range(10):\n",
    "    print(x)\n",
    "    if x == 6:\n",
    "        break"
   ]
  },
  {
   "cell_type": "code",
   "execution_count": 55,
   "id": "d089294d",
   "metadata": {},
   "outputs": [
    {
     "name": "stdout",
     "output_type": "stream",
     "text": [
      "0\n",
      "1\n",
      "2\n",
      "3\n",
      "4\n",
      "5\n",
      "7\n"
     ]
    }
   ],
   "source": [
    "#Continue statement\n",
    "for x in range(8):\n",
    "    if x == 6:\n",
    "        continue\n",
    "    print(x)\n",
    "    "
   ]
  },
  {
   "cell_type": "code",
   "execution_count": 56,
   "id": "0921931a",
   "metadata": {},
   "outputs": [
    {
     "name": "stdout",
     "output_type": "stream",
     "text": [
      "0\n",
      "1\n",
      "2\n",
      "3\n",
      "4\n",
      "5\n",
      "7\n"
     ]
    }
   ],
   "source": [
    "#if elif else statement with for\n",
    "for x in range(10):\n",
    "    if x == 6:\n",
    "        continue\n",
    "    elif x < 8:\n",
    "        print(x)\n",
    "    else:\n",
    "        break"
   ]
  },
  {
   "cell_type": "code",
   "execution_count": 57,
   "id": "9d83b10a",
   "metadata": {},
   "outputs": [
    {
     "name": "stdout",
     "output_type": "stream",
     "text": [
      "1\n",
      "2\n",
      "3\n",
      "4\n",
      "5\n",
      "6\n"
     ]
    }
   ],
   "source": [
    "#While\n",
    "count = 1\n",
    "while count < 7:\n",
    "    print(count)\n",
    "    count+=1"
   ]
  },
  {
   "cell_type": "code",
   "execution_count": 58,
   "id": "1a857fb3",
   "metadata": {},
   "outputs": [
    {
     "name": "stdout",
     "output_type": "stream",
     "text": [
      "1\n",
      "2\n",
      "3\n",
      "4\n",
      "5\n"
     ]
    }
   ],
   "source": [
    "#while with break and if statement\n",
    "count = 1\n",
    "while count < 10:\n",
    "    if count == 6:\n",
    "        break\n",
    "    print(count)\n",
    "    count+=1"
   ]
  },
  {
   "cell_type": "code",
   "execution_count": 59,
   "id": "0c29b909",
   "metadata": {},
   "outputs": [],
   "source": [
    "#while with if elif else break continue statements\n",
    "count = 1\n",
    "while count < 10:\n",
    "    if count == 6:\n",
    "      continue\n",
    "    elif count > 10:\n",
    "          print(count)\n",
    "    else:\n",
    "        break\n",
    "    count+=1"
   ]
  },
  {
   "cell_type": "markdown",
   "id": "f1570860-3344-4855-9193-0a758627642f",
   "metadata": {},
   "source": [
    "## Structure data types"
   ]
  },
  {
   "cell_type": "markdown",
   "id": "8373e54c-203a-4864-9792-306f06505247",
   "metadata": {},
   "source": [
    "### List"
   ]
  },
  {
   "cell_type": "code",
   "execution_count": 60,
   "id": "834cd6d7-babc-427f-8b00-f3f4ecd58152",
   "metadata": {},
   "outputs": [
    {
     "data": {
      "text/plain": [
       "[1, 2, 3, 4, 5, 6]"
      ]
     },
     "execution_count": 60,
     "metadata": {},
     "output_type": "execute_result"
    }
   ],
   "source": [
    "mylist = [1,2,3,4,5,6]\n",
    "mylist"
   ]
  },
  {
   "cell_type": "code",
   "execution_count": 61,
   "id": "e09501e7-e789-44f5-9d04-06a0416969d9",
   "metadata": {},
   "outputs": [
    {
     "data": {
      "text/plain": [
       "['Muhamad Rizki Arif Fadillah', 24, 'Purwakarta', True]"
      ]
     },
     "execution_count": 61,
     "metadata": {},
     "output_type": "execute_result"
    }
   ],
   "source": [
    "mydata = ['Muhamad Rizki Arif Fadillah',24,'Purwakarta',True]\n",
    "mydata"
   ]
  },
  {
   "cell_type": "code",
   "execution_count": 62,
   "id": "b976a110-c819-45a0-a8d1-b44a1262551e",
   "metadata": {},
   "outputs": [
    {
     "data": {
      "text/plain": [
       "24"
      ]
     },
     "execution_count": 62,
     "metadata": {},
     "output_type": "execute_result"
    }
   ],
   "source": [
    "#Accessing data\n",
    "mydata[1]"
   ]
  },
  {
   "cell_type": "code",
   "execution_count": 63,
   "id": "2e6e0c45-48b2-40cc-98b3-220a81282bd5",
   "metadata": {},
   "outputs": [
    {
     "data": {
      "text/plain": [
       "'Purwakarta'"
      ]
     },
     "execution_count": 63,
     "metadata": {},
     "output_type": "execute_result"
    }
   ],
   "source": [
    "#Negative indexing\n",
    "mydata[-2]"
   ]
  },
  {
   "cell_type": "code",
   "execution_count": 64,
   "id": "677b3166-86f8-479b-a7fc-c6ed42919409",
   "metadata": {},
   "outputs": [
    {
     "data": {
      "text/plain": [
       "['Muhamad Rizki Arif Fadillah', 24]"
      ]
     },
     "execution_count": 64,
     "metadata": {},
     "output_type": "execute_result"
    }
   ],
   "source": [
    "#slicing index\n",
    "mydata[:2]"
   ]
  },
  {
   "cell_type": "code",
   "execution_count": 65,
   "id": "f5d3a101-f0ff-4437-be84-4c90c6f5836f",
   "metadata": {},
   "outputs": [
    {
     "data": {
      "text/plain": [
       "['Muhamad Rizki Arif Fadillah', 'Purwakarta']"
      ]
     },
     "execution_count": 65,
     "metadata": {},
     "output_type": "execute_result"
    }
   ],
   "source": [
    "mydata[::2]"
   ]
  },
  {
   "cell_type": "code",
   "execution_count": 66,
   "id": "b9cdbdda-05ea-4798-9449-1967c9dfdd38",
   "metadata": {},
   "outputs": [
    {
     "data": {
      "text/plain": [
       "['Kibo', 24, 'Purwakarta', True]"
      ]
     },
     "execution_count": 66,
     "metadata": {},
     "output_type": "execute_result"
    }
   ],
   "source": [
    "#Changing values in list\n",
    "mydata[0]='Kibo'\n",
    "mydata"
   ]
  },
  {
   "cell_type": "code",
   "execution_count": 67,
   "id": "b8ce162b-b5db-4460-81e3-5bc885065eb0",
   "metadata": {},
   "outputs": [
    {
     "data": {
      "text/plain": [
       "['Muhamad Rizki Arif Fadillah', 23, 'Purwakarta', True]"
      ]
     },
     "execution_count": 67,
     "metadata": {},
     "output_type": "execute_result"
    }
   ],
   "source": [
    "mydata[:2] = ['Muhamad Rizki Arif Fadillah',23]\n",
    "mydata"
   ]
  },
  {
   "cell_type": "code",
   "execution_count": 68,
   "id": "572eff38-ed38-48a6-aa03-2215ea3e8689",
   "metadata": {},
   "outputs": [
    {
     "data": {
      "text/plain": [
       "['Muhamad Rizki Arif Fadillah', 23, 'Purwakarta', True, 'Kibo']"
      ]
     },
     "execution_count": 68,
     "metadata": {},
     "output_type": "execute_result"
    }
   ],
   "source": [
    "mydata.append('Kibo')\n",
    "mydata"
   ]
  },
  {
   "cell_type": "code",
   "execution_count": 69,
   "id": "b8f2d48e-d6d5-40e2-92c2-046aaf329a66",
   "metadata": {},
   "outputs": [
    {
     "data": {
      "text/plain": [
       "['Muhamad Rizki Arif Fadillah', 23, 'Purwakarta', 'Desember', True, 'Kibo']"
      ]
     },
     "execution_count": 69,
     "metadata": {},
     "output_type": "execute_result"
    }
   ],
   "source": [
    "mydata.insert(3,'Desember')\n",
    "mydata"
   ]
  },
  {
   "cell_type": "code",
   "execution_count": 70,
   "id": "8e9d66ba-74a1-4472-b5e6-590780c97829",
   "metadata": {},
   "outputs": [
    {
     "data": {
      "text/plain": [
       "['Muhamad Rizki Arif Fadillah',\n",
       " 23,\n",
       " 'Purwakarta',\n",
       " 'Desember',\n",
       " True,\n",
       " 'Kibo',\n",
       " 1,\n",
       " 2,\n",
       " 3,\n",
       " 4,\n",
       " 5,\n",
       " 6]"
      ]
     },
     "execution_count": 70,
     "metadata": {},
     "output_type": "execute_result"
    }
   ],
   "source": [
    "mydata.extend(mylist)\n",
    "mydata"
   ]
  },
  {
   "cell_type": "code",
   "execution_count": 71,
   "id": "39b3f2c6-fce2-4040-bfa2-6ffe19977af2",
   "metadata": {},
   "outputs": [
    {
     "data": {
      "text/plain": [
       "['Muhamad Rizki Arif Fadillah',\n",
       " 23,\n",
       " 'Purwakarta',\n",
       " 'Desember',\n",
       " True,\n",
       " 'Kibo',\n",
       " 1,\n",
       " 2,\n",
       " 3,\n",
       " 4,\n",
       " 5]"
      ]
     },
     "execution_count": 71,
     "metadata": {},
     "output_type": "execute_result"
    }
   ],
   "source": [
    "mydata.remove(6)\n",
    "mydata"
   ]
  },
  {
   "cell_type": "code",
   "execution_count": 72,
   "id": "733f1bdf-7e6b-43e0-b549-0acb44c1e560",
   "metadata": {},
   "outputs": [
    {
     "data": {
      "text/plain": [
       "['Muhamad Rizki Arif Fadillah',\n",
       " 23,\n",
       " 'Purwakarta',\n",
       " 'Desember',\n",
       " True,\n",
       " 'Kibo',\n",
       " 1,\n",
       " 3,\n",
       " 4,\n",
       " 5]"
      ]
     },
     "execution_count": 72,
     "metadata": {},
     "output_type": "execute_result"
    }
   ],
   "source": [
    "mydata.pop(7)\n",
    "mydata"
   ]
  },
  {
   "cell_type": "code",
   "execution_count": 78,
   "id": "31f3a1d3-c599-481e-83be-fff440edd740",
   "metadata": {},
   "outputs": [
    {
     "data": {
      "text/plain": [
       "[6, 5, 4, 3, 2, 1]"
      ]
     },
     "execution_count": 78,
     "metadata": {},
     "output_type": "execute_result"
    }
   ],
   "source": [
    "#shortlist\n",
    "mylist = mylist[::-1]\n",
    "mylist"
   ]
  },
  {
   "cell_type": "code",
   "execution_count": 80,
   "id": "c2d802a0-e536-444d-a033-da0ba4cbfee8",
   "metadata": {},
   "outputs": [
    {
     "data": {
      "text/plain": [
       "[1, 2, 3, 4, 5, 6]"
      ]
     },
     "execution_count": 80,
     "metadata": {},
     "output_type": "execute_result"
    }
   ],
   "source": [
    "mylist.sort()\n",
    "mylist"
   ]
  },
  {
   "cell_type": "markdown",
   "id": "3c1add7f-5c87-48dd-982a-a3729dcc1581",
   "metadata": {},
   "source": [
    "## List comprehension\n",
    "`newlist = [expression for item in iterable if condition == True]`"
   ]
  },
  {
   "cell_type": "code",
   "execution_count": 73,
   "id": "3702665b-6fd0-4a69-b0a5-1b5415784123",
   "metadata": {},
   "outputs": [
    {
     "data": {
      "text/plain": [
       "[1, 3, 5]"
      ]
     },
     "execution_count": 73,
     "metadata": {},
     "output_type": "execute_result"
    }
   ],
   "source": [
    "lc = [x for x in range(6) if x % 2 == 1]\n",
    "lc"
   ]
  },
  {
   "cell_type": "markdown",
   "id": "7cd7dc18-00e1-4a03-b852-33fb6e531945",
   "metadata": {},
   "source": [
    "## Tuples"
   ]
  },
  {
   "cell_type": "code",
   "execution_count": 81,
   "id": "b7f4dd94-40c2-42f2-94e0-23bbb61752bf",
   "metadata": {},
   "outputs": [
    {
     "data": {
      "text/plain": [
       "(4, 5, 6, 3, 1, 9, 8)"
      ]
     },
     "execution_count": 81,
     "metadata": {},
     "output_type": "execute_result"
    }
   ],
   "source": [
    "mytuples = (4,5,6,3,1,9,8)\n",
    "mytuples"
   ]
  },
  {
   "cell_type": "code",
   "execution_count": 82,
   "id": "dde2b65d-bbd1-4217-8c18-b143c33cc7a1",
   "metadata": {},
   "outputs": [
    {
     "data": {
      "text/plain": [
       "5"
      ]
     },
     "execution_count": 82,
     "metadata": {},
     "output_type": "execute_result"
    }
   ],
   "source": [
    "mytuples[1]"
   ]
  },
  {
   "cell_type": "code",
   "execution_count": 83,
   "id": "97dfd05a-fe85-4c7e-b1fb-030572f6021a",
   "metadata": {},
   "outputs": [
    {
     "data": {
      "text/plain": [
       "(4, 5, 6)"
      ]
     },
     "execution_count": 83,
     "metadata": {},
     "output_type": "execute_result"
    }
   ],
   "source": [
    "mytuples[:3]"
   ]
  },
  {
   "cell_type": "code",
   "execution_count": 1,
   "id": "1ca2917a-b19e-4bda-99ab-5150021310ab",
   "metadata": {},
   "outputs": [
    {
     "data": {
      "text/plain": [
       "('Muhamad Rizki Arif Fadillah', 25, 'Purwakarta', 28)"
      ]
     },
     "execution_count": 1,
     "metadata": {},
     "output_type": "execute_result"
    }
   ],
   "source": [
    "tuplesdata = ('Muhamad Rizki Arif Fadillah',25,'Purwakarta',28)\n",
    "tuplesdata"
   ]
  },
  {
   "cell_type": "code",
   "execution_count": 3,
   "id": "49d3cb09-25cd-4ea5-9a61-9a7ddfe9195a",
   "metadata": {},
   "outputs": [
    {
     "data": {
      "text/plain": [
       "('Muhamad Rizki Arif Fadillah', 25, 'Purwakarta', 28, \"I'm a handsome boy\")"
      ]
     },
     "execution_count": 3,
     "metadata": {},
     "output_type": "execute_result"
    }
   ],
   "source": [
    "x = ('I\\'m a handsome boy',) # using come after value to make python understand about the variable type data\n",
    "tuplesdata += x\n",
    "tuplesdata"
   ]
  },
  {
   "cell_type": "markdown",
   "id": "0dd5de6e-32cf-4ff4-b7b2-f6b48067f79a",
   "metadata": {},
   "source": [
    "**Using asterik**"
   ]
  },
  {
   "cell_type": "code",
   "execution_count": 6,
   "id": "28cffedf-41b7-4896-8f3f-2e3ebe9875a6",
   "metadata": {},
   "outputs": [
    {
     "data": {
      "text/plain": [
       "('Muhamad Rizki Arif Fadillah', 25, ['Purwakarta', 28, \"I'm a handsome boy\"])"
      ]
     },
     "execution_count": 6,
     "metadata": {},
     "output_type": "execute_result"
    }
   ],
   "source": [
    "(x,y,*z) = tuplesdata\n",
    "x,y,z"
   ]
  },
  {
   "cell_type": "markdown",
   "id": "7ea138ee-8214-45bd-b6fe-bc6782225f6f",
   "metadata": {},
   "source": [
    "#### Looping in tuple"
   ]
  },
  {
   "cell_type": "code",
   "execution_count": 7,
   "id": "5f62cf71-c07f-4aa1-9ae7-c35dbfb37267",
   "metadata": {},
   "outputs": [
    {
     "ename": "TypeError",
     "evalue": "'tuple' object cannot be interpreted as an integer",
     "output_type": "error",
     "traceback": [
      "\u001b[0;31m---------------------------------------------------------------------------\u001b[0m",
      "\u001b[0;31mTypeError\u001b[0m                                 Traceback (most recent call last)",
      "Cell \u001b[0;32mIn[7], line 1\u001b[0m\n\u001b[0;32m----> 1\u001b[0m \u001b[38;5;28;01mfor\u001b[39;00m x \u001b[38;5;129;01min\u001b[39;00m \u001b[38;5;28;43mrange\u001b[39;49m\u001b[43m(\u001b[49m\u001b[43mtuplesdata\u001b[49m\u001b[43m)\u001b[49m:\n\u001b[1;32m      2\u001b[0m     \u001b[38;5;28mprint\u001b[39m(x)\n",
      "\u001b[0;31mTypeError\u001b[0m: 'tuple' object cannot be interpreted as an integer"
     ]
    }
   ],
   "source": [
    "for x in range(tuplesdata):\n",
    "    print(x)"
   ]
  },
  {
   "cell_type": "code",
   "execution_count": null,
   "id": "8206ba59-2995-4bda-9eec-917d58042a7b",
   "metadata": {},
   "outputs": [],
   "source": []
  }
 ],
 "metadata": {
  "kernelspec": {
   "display_name": "Python 3 (ipykernel)",
   "language": "python",
   "name": "python3"
  },
  "language_info": {
   "codemirror_mode": {
    "name": "ipython",
    "version": 3
   },
   "file_extension": ".py",
   "mimetype": "text/x-python",
   "name": "python",
   "nbconvert_exporter": "python",
   "pygments_lexer": "ipython3",
   "version": "3.8.10"
  }
 },
 "nbformat": 4,
 "nbformat_minor": 5
}
